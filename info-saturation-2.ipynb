{
 "cells": [
  {
   "cell_type": "code",
   "execution_count": 1,
   "metadata": {},
   "outputs": [],
   "source": [
    "import jax\n",
    "import jax.numpy as jnp\n",
    "import flax.linen as nn\n",
    "import optax\n",
    "\n",
    "import numpy as np\n",
    "\n",
    "import tensorflow_probability.substrates.jax as tfp\n",
    "\n",
    "import matplotlib.pyplot as plt"
   ]
  },
  {
   "cell_type": "code",
   "execution_count": 2,
   "metadata": {},
   "outputs": [],
   "source": [
    "def fill_diagonal(a, val):\n",
    "  assert a.ndim >= 2\n",
    "  i, j = jnp.diag_indices(min(a.shape[-2:]))\n",
    "  return a.at[..., i, j].set(val)"
   ]
  },
  {
   "cell_type": "code",
   "execution_count": 3,
   "metadata": {},
   "outputs": [],
   "source": [
    "from typing import Sequence, Any\n",
    "Array = Any\n",
    "\n",
    "import numpy as np\n",
    "import jax\n",
    "import jax.numpy as jnp\n",
    "import flax.linen as nn\n",
    "\n",
    "\n",
    "class MLP(nn.Module):\n",
    "  features: Sequence[int]\n",
    "\n",
    "  @nn.compact\n",
    "  def __call__(self, x):\n",
    "    for feat in self.features[:-1]:\n",
    "      x = nn.elu(nn.Dense(feat)(x))\n",
    "    x = nn.Dense(self.features[-1])(x)\n",
    "    return x\n",
    "\n",
    "class AutoEncoder(nn.Module):\n",
    "  encoder_widths: Sequence[int]\n",
    "  decoder_widths: Sequence[int]\n",
    "  input_shape: Sequence[int]\n",
    "\n",
    "  def setup(self):\n",
    "    input_dim = np.prod(self.input_shape)\n",
    "    self.encoder = MLP(self.encoder_widths)\n",
    "    self.decoder = MLP(self.decoder_widths + (input_dim,))\n",
    "\n",
    "  def __call__(self, x):\n",
    "    return self.decode(self.encode(x))\n",
    "\n",
    "  def encode(self, x):\n",
    "    assert x.shape[1:] == self.input_shape\n",
    "    return self.encoder(jnp.reshape(x, (x.shape[0], -1)))\n",
    "\n",
    "  def decode(self, z):\n",
    "    z = self.decoder(z)\n",
    "    x = nn.sigmoid(z)\n",
    "    x = jnp.reshape(x, (x.shape[0],) + self.input_shape)\n",
    "    return x"
   ]
  },
  {
   "cell_type": "code",
   "execution_count": 7,
   "metadata": {},
   "outputs": [],
   "source": [
    "key = jax.random.PRNGKey(0)\n",
    "\n",
    "n_params = 2\n",
    "n_outputs = int(n_params + int(n_params * (n_params + 1)) // 2)\n",
    "\n",
    "model = MLP([128,128,128,n_outputs])\n",
    "\n",
    "params = model.init(key, jnp.ones((10,)))\n",
    "\n",
    "outs = model.apply(params, jnp.ones((10,)))"
   ]
  },
  {
   "cell_type": "code",
   "execution_count": 9,
   "metadata": {},
   "outputs": [
    {
     "data": {
      "text/plain": [
       "(5,)"
      ]
     },
     "execution_count": 9,
     "metadata": {},
     "output_type": "execute_result"
    }
   ],
   "source": [
    "outs.shape"
   ]
  },
  {
   "attachments": {},
   "cell_type": "markdown",
   "metadata": {},
   "source": [
    "# do a regression scheme"
   ]
  },
  {
   "cell_type": "code",
   "execution_count": 61,
   "metadata": {},
   "outputs": [],
   "source": [
    "import jax.random as jr\n",
    "\n",
    "n_d = 100\n",
    "input_shape = (n_d,)\n",
    "\n",
    "@jax.jit\n",
    "def Fisher(θ, n_d=n_d):\n",
    "    Σ = θ[1]\n",
    "    return jnp.array([[n_d / Σ, 0.], [0., n_d / (2. * Σ**2.)]])\n",
    "\n",
    "\n",
    "def simulator(key, θ):\n",
    "    return θ[0] + jax.random.normal(key, shape=input_shape) * jnp.sqrt(θ[1])\n",
    "\n",
    "\n",
    "key = jr.PRNGKey(0)\n",
    "\n",
    "key1,key2 = jr.split(key)\n",
    "\n",
    "mu_ = jr.uniform(key1, shape=(10000,), minval=-2, maxval=2)\n",
    "sigma_ = jr.uniform(key2, shape=(10000,), minval=0.5, maxval=3.0)\n",
    "\n",
    "theta_ = jnp.stack([mu_, sigma_], axis=-1)\n",
    "\n",
    "keys = jr.split(key, num=10000)\n",
    "\n",
    "data = jax.vmap(simulator)(keys, theta_)[:, :]"
   ]
  },
  {
   "cell_type": "code",
   "execution_count": 62,
   "metadata": {},
   "outputs": [
    {
     "data": {
      "text/plain": [
       "(10000, 100)"
      ]
     },
     "execution_count": 62,
     "metadata": {},
     "output_type": "execute_result"
    }
   ],
   "source": [
    "data.shape"
   ]
  },
  {
   "cell_type": "code",
   "execution_count": 63,
   "metadata": {},
   "outputs": [],
   "source": [
    "key = jax.random.PRNGKey(0)\n",
    "\n",
    "n_params = 2\n",
    "n_outputs = int(n_params + int(n_params * (n_params + 1)) // 2)\n",
    "\n",
    "theta_fid = jnp.array([0.0, 1.0])\n",
    "\n",
    "model = MLP([128,128,128,n_outputs])\n",
    "\n",
    "w = model.init(key, jnp.ones((100)))\n",
    "\n",
    "outs = model.apply(w, jnp.ones((100)))"
   ]
  },
  {
   "cell_type": "code",
   "execution_count": 64,
   "metadata": {},
   "outputs": [
    {
     "data": {
      "text/plain": [
       "(2,)"
      ]
     },
     "execution_count": 64,
     "metadata": {},
     "output_type": "execute_result"
    }
   ],
   "source": [
    "outs[:n_params].shape"
   ]
  },
  {
   "cell_type": "code",
   "execution_count": 65,
   "metadata": {},
   "outputs": [],
   "source": [
    "def fill_diagonal(a, val):\n",
    "  assert a.ndim >= 2\n",
    "  i, j = jnp.diag_indices(min(a.shape[-2:]))\n",
    "  return a.at[..., i, j].set(val)\n",
    "\n",
    "def construct_fisher_matrix_single(outputs):\n",
    "    Q = tfp.math.fill_triangular(outputs)\n",
    "    middle = jnp.diag(jnp.triu(Q) - nn.softplus(jnp.triu(Q)))\n",
    "    padding = jnp.zeros(Q.shape)\n",
    "\n",
    "    L = Q - fill_diagonal(padding, middle)\n",
    "\n",
    "    return jnp.einsum('...ij,...jk->...ik', L, jnp.transpose(L, (1, 0))) + jnp.eye(n_params)"
   ]
  },
  {
   "cell_type": "code",
   "execution_count": 66,
   "metadata": {},
   "outputs": [],
   "source": [
    "@jax.jit\n",
    "def kl_loss(w, x_batched, theta_batched):\n",
    "\n",
    "    def fn(x, theta):\n",
    "       outputs = model.apply(w, x)\n",
    "       t = outputs[:n_params]\n",
    "       f_cholesky = outputs[n_params:]\n",
    "       F = construct_fisher_matrix_single(f_cholesky)\n",
    "\n",
    "       # score jump step\n",
    "       mle = jnp.einsum('jk,k->j', jnp.linalg.inv(F), t) + theta_fid\n",
    "\n",
    "       return mle, F\n",
    "    \n",
    "    mle,F = jax.vmap(fn)(x_batched, theta_batched)\n",
    "\n",
    "    return -jnp.mean(-0.5 * jnp.einsum('ij,ij->i', (theta_batched - mle), \\\n",
    "                                             jnp.einsum('ijk,ik->ij', F, (theta_batched - mle))) \\\n",
    "                                                  + 0.5*jnp.log(jnp.linalg.det(F)), axis=0)"
   ]
  },
  {
   "cell_type": "code",
   "execution_count": 67,
   "metadata": {},
   "outputs": [
    {
     "data": {
      "text/plain": [
       "(10000, 100)"
      ]
     },
     "execution_count": 67,
     "metadata": {},
     "output_type": "execute_result"
    }
   ],
   "source": [
    "data.shape"
   ]
  },
  {
   "cell_type": "code",
   "execution_count": 68,
   "metadata": {},
   "outputs": [
    {
     "data": {
      "text/plain": [
       "Array(2.926128, dtype=float32)"
      ]
     },
     "execution_count": 68,
     "metadata": {},
     "output_type": "execute_result"
    }
   ],
   "source": [
    "kl_loss(w, data[:10], theta_[:10])"
   ]
  },
  {
   "cell_type": "code",
   "execution_count": 69,
   "metadata": {},
   "outputs": [],
   "source": [
    "from tqdm import tqdm\n",
    "import optax\n",
    "tx = optax.adam(learning_rate=1e-4)\n",
    "opt_state = tx.init(w)\n",
    "loss_grad_fn = jax.value_and_grad(kl_loss)\n",
    "\n",
    "\n",
    "batch_size = 100\n",
    "epochs = 100\n",
    "\n",
    "w = w\n",
    "\n",
    "losses = []\n",
    "#val_losses = []"
   ]
  },
  {
   "cell_type": "code",
   "execution_count": 146,
   "metadata": {},
   "outputs": [
    {
     "name": "stderr",
     "output_type": "stream",
     "text": [
      "epoch loss 99: -3.6873: 100%|██████████| 100/100 [02:25<00:00,  1.46s/it]\n"
     ]
    }
   ],
   "source": [
    "from tqdm import tqdm\n",
    "batch_size = 100\n",
    "epochs = 100\n",
    "\n",
    "key = jax.random.PRNGKey(99)\n",
    "\n",
    "pbar = tqdm(range(epochs), leave=True, position=0)\n",
    "\n",
    "for j in pbar:\n",
    "  key,rng = jax.random.split(key)\n",
    "\n",
    "  for i in range(len(data) // batch_size):\n",
    "    x_samples = data[batch_size*i:(batch_size*(i+1))]\n",
    "    y_samples = theta_[batch_size*i:(batch_size*(i+1))]\n",
    "\n",
    "    loss_val, grads = loss_grad_fn(w, x_samples, y_samples)\n",
    "    updates, opt_state = tx.update(grads, opt_state)\n",
    "    w = optax.apply_updates(w, updates)\n",
    "\n",
    "    #if i % 10 == 0:\n",
    "\n",
    "    #  val_loss, _ = loss_grad_fn(w, X_test, y_test)\n",
    "      #print('loss step {}: '.format(i), loss_val)\n",
    "      #print('val loss step {}: '.format(i), val_loss_val)\n",
    "      \n",
    "  losses.append(loss_val)\n",
    "  #val_losses.append(val_loss)\n",
    "  pbar.set_description('epoch loss %d: %.4f'%(j, loss_val))"
   ]
  },
  {
   "cell_type": "code",
   "execution_count": 147,
   "metadata": {},
   "outputs": [
    {
     "data": {
      "text/plain": [
       "[<matplotlib.lines.Line2D at 0x7fa63a6dc700>]"
      ]
     },
     "execution_count": 147,
     "metadata": {},
     "output_type": "execute_result"
    },
    {
     "data": {
      "image/png": "[encoded data removed]",
      "text/plain": [
       "<Figure size 432x288 with 1 Axes>"
      ]
     },
     "metadata": {
      "needs_background": "light"
     },
     "output_type": "display_data"
    }
   ],
   "source": [
    "plt.plot(losses)"
   ]
  },
  {
   "cell_type": "code",
   "execution_count": 148,
   "metadata": {},
   "outputs": [],
   "source": [
    "def get_mle_F(x):\n",
    "    outputs = model.apply(w, x)\n",
    "    t = outputs[:n_params]\n",
    "    f_cholesky = outputs[n_params:]\n",
    "    F = construct_fisher_matrix_single(f_cholesky)\n",
    "\n",
    "    mle = jnp.einsum('jk,k->j', jnp.linalg.inv(F), t) + theta_fid\n",
    "\n",
    "    return mle, F"
   ]
  },
  {
   "cell_type": "code",
   "execution_count": 149,
   "metadata": {},
   "outputs": [],
   "source": [
    "mle_pred,F_pred = jax.vmap(get_mle_F)(data[-1000:])"
   ]
  },
  {
   "cell_type": "code",
   "execution_count": 150,
   "metadata": {},
   "outputs": [
    {
     "data": {
      "text/plain": [
       "<matplotlib.collections.PathCollection at 0x7fa629975ee0>"
      ]
     },
     "execution_count": 150,
     "metadata": {},
     "output_type": "execute_result"
    },
    {
     "data": {
      "image/png": "[encoded data removed]",
      "text/plain": [
       "<Figure size 432x288 with 2 Axes>"
      ]
     },
     "metadata": {
      "needs_background": "light"
     },
     "output_type": "display_data"
    }
   ],
   "source": [
    "plt.subplot(121)\n",
    "plt.scatter(theta_[-1000:, 0], mle_pred[:, 0], s=2)\n",
    "plt.subplot(122)\n",
    "plt.scatter(theta_[-1000:, 1], mle_pred[:, 1], s=2)"
   ]
  },
  {
   "cell_type": "code",
   "execution_count": 133,
   "metadata": {},
   "outputs": [],
   "source": [
    "@jax.jit\n",
    "def Fisher(θ, n_d=n_d):\n",
    "    Σ = θ[1]\n",
    "    return jnp.array([[n_d / Σ, 0.], [0., n_d / (2. * Σ**2.)]])\n",
    "\n",
    "F_true = jax.vmap(Fisher)(theta_[-1000:])"
   ]
  },
  {
   "cell_type": "code",
   "execution_count": 134,
   "metadata": {},
   "outputs": [
    {
     "data": {
      "text/plain": [
       "Array([[[112.028824,   0.      ],\n",
       "        [  0.      ,  62.75229 ]],\n",
       "\n",
       "       [[192.69997 ,   0.      ],\n",
       "        [  0.      , 185.66637 ]],\n",
       "\n",
       "       [[ 50.472633,   0.      ],\n",
       "        [  0.      ,  12.737433]],\n",
       "\n",
       "       [[ 91.64879 ,   0.      ],\n",
       "        [  0.      ,  41.9975  ]],\n",
       "\n",
       "       [[ 46.800247,   0.      ],\n",
       "        [  0.      ,  10.951315]]], dtype=float32)"
      ]
     },
     "execution_count": 134,
     "metadata": {},
     "output_type": "execute_result"
    }
   ],
   "source": [
    "F_true[:5]"
   ]
  },
  {
   "cell_type": "code",
   "execution_count": 135,
   "metadata": {},
   "outputs": [
    {
     "data": {
      "text/plain": [
       "Array([[[ 75.606186, -15.530719],\n",
       "        [-15.530719,  43.98142 ]],\n",
       "\n",
       "       [[ 83.06712 , -27.660276],\n",
       "        [-27.660276,  52.529594]],\n",
       "\n",
       "       [[ 87.95377 ,  -9.411689],\n",
       "        [ -9.411689,  32.87072 ]],\n",
       "\n",
       "       [[ 79.96897 ,  -7.881702],\n",
       "        [ -7.881702,  31.301434]],\n",
       "\n",
       "       [[ 71.19143 ,   4.165998],\n",
       "        [  4.165998,  42.123356]]], dtype=float32)"
      ]
     },
     "execution_count": 135,
     "metadata": {},
     "output_type": "execute_result"
    }
   ],
   "source": [
    "F_pred[:5]"
   ]
  },
  {
   "cell_type": "code",
   "execution_count": 136,
   "metadata": {},
   "outputs": [],
   "source": [
    "θ_fid = jnp.array([0.0, 1.25])\n",
    "\n",
    "lo = [-1.0, 0.5]\n",
    "hi = [1.0, 3.0]\n",
    "\n",
    "num = 10\n",
    "\n",
    "xs = jnp.linspace(-1.0, 1.0, num) # MEAN\n",
    "ys = jnp.linspace(0.5, 3.0, num) #jnp.logspace(-1.0, 0.0, num) # VARIANCE\n",
    "\n",
    "\n",
    "xs,ys = jnp.meshgrid(xs, ys)\n",
    "\n",
    "fishers = []\n",
    "\n",
    "for _mu,_sigma in zip(xs.ravel(), ys.ravel()):\n",
    "  fishers.append(Fisher(jnp.array([_mu,_sigma]), n_d=n_d))"
   ]
  },
  {
   "cell_type": "code",
   "execution_count": 137,
   "metadata": {},
   "outputs": [
    {
     "name": "stderr",
     "output_type": "stream",
     "text": [
      "No artists with labels found to put in legend.  Note that artists whose label start with an underscore are ignored when legend() is called with no argument.\n"
     ]
    },
    {
     "data": {
      "image/png": "[encoded data removed]",
      "text/plain": [
       "<Figure size 432x288 with 2 Axes>"
      ]
     },
     "metadata": {
      "needs_background": "light"
     },
     "output_type": "display_data"
    }
   ],
   "source": [
    "_data = jax.vmap(jnp.linalg.det)(jnp.array(fishers)).reshape(xs.shape) #/ ys #jnp.array(fishers)[:, 0, 0].reshape(xs.shape) / ys #jax.vmap(jnp.linalg.det)(jnp.array(fishers)).reshape(xs.shape)\n",
    "\n",
    "im = plt.contourf(xs, ys, 0.5*np.log(_data), cmap='viridis', levels=10)\n",
    "cbar = plt.colorbar(im)\n",
    "#plt.yscale('log')\n",
    "plt.ylabel('$\\Sigma$')\n",
    "plt.xlabel('$\\mu$')\n",
    "plt.title(r'$ \\frac{1}{2} \\ln \\det F_{\\rm true}(\\theta)$')\n",
    "plt.legend(framealpha=0., loc='lower left')\n",
    "plt.show()"
   ]
  },
  {
   "cell_type": "code",
   "execution_count": 151,
   "metadata": {},
   "outputs": [
    {
     "name": "stderr",
     "output_type": "stream",
     "text": [
      "100it [00:06, 16.62it/s]\n"
     ]
    }
   ],
   "source": [
    "fishers_pred = []\n",
    "\n",
    "key = jr.PRNGKey(99)\n",
    "n_d_test = 500\n",
    "\n",
    "\n",
    "\n",
    "\n",
    "for mu,sigma in tqdm(zip(xs.ravel(), ys.ravel())):\n",
    "  # generate many data realization at each gridpoint\n",
    "    key, rng = jr.split(key)\n",
    "    keys = jr.split(key, 2000)\n",
    "\n",
    "    sims = jax.vmap(simulator)(keys, jnp.tile(jnp.array([[mu], [sigma]]), 2000).T)\n",
    "    \n",
    "    fpreds = jax.vmap(get_mle_F)(sims)[1]\n",
    "\n",
    "    fishers_pred.append(jnp.mean(fpreds, axis=0))"
   ]
  },
  {
   "cell_type": "code",
   "execution_count": 139,
   "metadata": {},
   "outputs": [
    {
     "data": {
      "text/plain": [
       "(2000, 2, 2)"
      ]
     },
     "execution_count": 139,
     "metadata": {},
     "output_type": "execute_result"
    }
   ],
   "source": [
    "fpreds.shape"
   ]
  },
  {
   "cell_type": "code",
   "execution_count": 140,
   "metadata": {},
   "outputs": [
    {
     "data": {
      "text/plain": [
       "Array(2109.3748, dtype=float32)"
      ]
     },
     "execution_count": 140,
     "metadata": {},
     "output_type": "execute_result"
    }
   ],
   "source": [
    "jnp.linalg.det(fishers[30])"
   ]
  },
  {
   "cell_type": "code",
   "execution_count": 141,
   "metadata": {},
   "outputs": [
    {
     "data": {
      "text/plain": [
       "Array([[80.775665 , -5.4974236],\n",
       "       [-5.4974236, 33.47636  ]], dtype=float32)"
      ]
     },
     "execution_count": 141,
     "metadata": {},
     "output_type": "execute_result"
    }
   ],
   "source": [
    "fishers_pred[30]"
   ]
  },
  {
   "cell_type": "code",
   "execution_count": 142,
   "metadata": {},
   "outputs": [
    {
     "data": {
      "text/plain": [
       "Array(2673.8535, dtype=float32)"
      ]
     },
     "execution_count": 142,
     "metadata": {},
     "output_type": "execute_result"
    }
   ],
   "source": [
    "jnp.linalg.det(fishers_pred[30])"
   ]
  },
  {
   "cell_type": "code",
   "execution_count": 152,
   "metadata": {},
   "outputs": [
    {
     "name": "stderr",
     "output_type": "stream",
     "text": [
      "No artists with labels found to put in legend.  Note that artists whose label start with an underscore are ignored when legend() is called with no argument.\n"
     ]
    },
    {
     "data": {
      "image/png": "[encoded data removed]",
      "text/plain": [
       "<Figure size 432x288 with 2 Axes>"
      ]
     },
     "metadata": {
      "needs_background": "light"
     },
     "output_type": "display_data"
    }
   ],
   "source": [
    "_data = jax.vmap(jnp.linalg.det)(jnp.array(fishers_pred)).reshape(xs.shape) #/ ys#jnp.array(fishers_pred)[:, 1, 1].reshape(xs.shape) / ys#jax.vmap(jnp.linalg.det)(jnp.array(fishers_pred)).reshape(xs.shape)\n",
    "\n",
    "im = plt.contourf(xs, ys, 0.5*np.log(_data), cmap='viridis', levels=10)\n",
    "plt.colorbar(im)\n",
    "#plt.yscale('log')\n",
    "plt.ylabel('$\\Sigma$')\n",
    "plt.xlabel('$\\mu$')\n",
    "plt.title(r'$ \\frac{1}{2} \\ln \\det \\langle F_{\\rm NN}(\\theta) \\rangle $')\n",
    "plt.legend(framealpha=0., loc='lower left')\n",
    "plt.show()"
   ]
  },
  {
   "cell_type": "code",
   "execution_count": 918,
   "metadata": {},
   "outputs": [
    {
     "data": {
      "text/plain": [
       "'/Users/lucas/repositories/fishnets'"
      ]
     },
     "execution_count": 918,
     "metadata": {},
     "output_type": "execute_result"
    }
   ],
   "source": [
    "pwd"
   ]
  },
  {
   "cell_type": "code",
   "execution_count": 919,
   "metadata": {},
   "outputs": [],
   "source": [
    "np.save(\"iidnoise_fishers_pred\", fishers_pred)\n",
    "np.save(\"iidnoise_fishers_true\", fishers)\n",
    "\n",
    "np.save(\"xy_grid\", (xs, ys))"
   ]
  },
  {
   "cell_type": "code",
   "execution_count": 153,
   "metadata": {},
   "outputs": [
    {
     "data": {
      "image/png": "[encoded data removed]",
      "text/plain": [
       "<Figure size 576x288 with 3 Axes>"
      ]
     },
     "metadata": {
      "needs_background": "light"
     },
     "output_type": "display_data"
    }
   ],
   "source": [
    "fig, axs = plt.subplots(nrows=1, ncols=2, figsize=(8,4), sharex=\"col\", sharey=True)\n",
    "(ax1, ax2) = axs\n",
    "\n",
    "levels = [2.5, 3.0, 3.5, 4.0, 4.5, 5.0, 5.5]\n",
    "\n",
    "dets1 =  jax.vmap(jnp.linalg.det)(jnp.array(fishers)).reshape(xs.shape)\n",
    "\n",
    "ax1.contourf(xs, ys, 0.5*np.log(dets1), cmap='viridis', levels=levels)\n",
    "\n",
    "dets2 = jax.vmap(jnp.linalg.det)(jnp.array(fishers_pred)).reshape(xs.shape) \n",
    "\n",
    "cs2 = ax2.contourf(xs, ys, 0.5*np.log(dets2), cmap='viridis', levels=levels)\n",
    "\n",
    "plt.colorbar(cs2)\n",
    "\n",
    "ax1.set_title(r'$ \\frac{1}{2} \\ln \\det F_{\\rm true}(\\theta)$')\n",
    "\n",
    "ax1.set_ylabel('$\\Sigma$')\n",
    "ax1.set_xlabel('$\\mu$')\n",
    "\n",
    "ax2.set_xlabel('$\\mu$')\n",
    "ax2.set_title(r'$ \\frac{1}{2} \\ln \\det \\langle F_{\\rm NN}(\\theta) \\rangle $')\n",
    "plt.tight_layout()\n",
    "\n",
    "#plt.savefig(\"/Users/lucas/Documents/Documents - MacBook Pro di Admin/imperial/fishnets/info-comparison.png\", dpi=400)"
   ]
  },
  {
   "cell_type": "code",
   "execution_count": 145,
   "metadata": {},
   "outputs": [
    {
     "name": "stderr",
     "output_type": "stream",
     "text": [
      "No artists with labels found to put in legend.  Note that artists whose label start with an underscore are ignored when legend() is called with no argument.\n"
     ]
    },
    {
     "data": {
      "image/png": "[encoded data removed]",
      "text/plain": [
       "<Figure size 432x288 with 2 Axes>"
      ]
     },
     "metadata": {
      "needs_background": "light"
     },
     "output_type": "display_data"
    }
   ],
   "source": [
    "_data = jax.vmap(jnp.linalg.det)(jnp.array(fishers_pred) - jnp.array(fishers)).reshape(xs.shape)\n",
    "\n",
    "\n",
    "im = plt.contourf(xs, ys, (_data), cmap='viridis', levels=100)\n",
    "plt.colorbar(im)\n",
    "#plt.yscale('log')\n",
    "plt.ylabel('$\\Sigma$')\n",
    "plt.xlabel('$\\mu$')\n",
    "plt.title(r'$ \\frac{1}{2} \\ln \\det F(\\theta)$')\n",
    "plt.legend(framealpha=0., loc='lower left')\n",
    "plt.show()"
   ]
  },
  {
   "cell_type": "code",
   "execution_count": 421,
   "metadata": {},
   "outputs": [
    {
     "data": {
      "text/plain": [
       "Array([[9.830508, 0.      ],\n",
       "       [0.      , 4.831945]], dtype=float32)"
      ]
     },
     "execution_count": 421,
     "metadata": {},
     "output_type": "execute_result"
    }
   ],
   "source": [
    "fishers[200]"
   ]
  },
  {
   "cell_type": "code",
   "execution_count": null,
   "metadata": {},
   "outputs": [],
   "source": []
  }
 ],
 "metadata": {
  "kernelspec": {
   "display_name": "Python 3",
   "language": "python",
   "name": "python3"
  },
  "language_info": {
   "codemirror_mode": {
    "name": "ipython",
    "version": 3
   },
   "file_extension": ".py",
   "mimetype": "text/x-python",
   "name": "python",
   "nbconvert_exporter": "python",
   "pygments_lexer": "ipython3",
   "version": "3.8.8"
  },
  "orig_nbformat": 4,
  "vscode": {
   "interpreter": {
    "hash": "40d3a090f54c6569ab1632332b64b2c03c39dcf918b08424e98f38b5ae0af88f"
   }
  }
 },
 "nbformat": 4,
 "nbformat_minor": 2
}
