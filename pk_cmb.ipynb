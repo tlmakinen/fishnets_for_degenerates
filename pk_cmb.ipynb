{
 "cells": [
  {
   "cell_type": "code",
   "execution_count": 1,
   "metadata": {},
   "outputs": [],
   "source": [
    "import jax\n",
    "import jax.numpy as jnp\n",
    "import flax.linen as nn\n",
    "import optax\n",
    "\n",
    "import numpy as np\n",
    "\n",
    "import tensorflow_probability.substrates.jax as tfp\n",
    "\n",
    "import matplotlib.pyplot as plt"
   ]
  },
  {
   "cell_type": "code",
   "execution_count": 27,
   "metadata": {},
   "outputs": [],
   "source": [
    "# fishnets functions\n",
    "\n",
    "from typing import Sequence, Any\n",
    "Array = Any\n",
    "\n",
    "import numpy as np\n",
    "import jax\n",
    "import jax.numpy as jnp\n",
    "import flax.linen as nn\n",
    "\n",
    "def fill_diagonal(a, val):\n",
    "  assert a.ndim >= 2\n",
    "  i, j = jnp.diag_indices(min(a.shape[-2:]))\n",
    "  return a.at[..., i, j].set(val)\n",
    "\n",
    "\n",
    "def construct_fisher_matrix_single(outputs):\n",
    "    Q = tfp.math.fill_triangular(outputs)\n",
    "    middle = jnp.diag(jnp.triu(Q) - nn.softplus(jnp.triu(Q)))\n",
    "    padding = jnp.zeros(Q.shape)\n",
    "\n",
    "    L = Q - fill_diagonal(padding, middle)\n",
    "\n",
    "    return jnp.einsum('...ij,...jk->...ik', L, jnp.transpose(L, (1, 0))) + jnp.eye(n_params)\n",
    "\n",
    "\n",
    "\n",
    "\n",
    "class MLP(nn.Module):\n",
    "  features: Sequence[int]\n",
    "\n",
    "  @nn.compact\n",
    "  def __call__(self, x):\n",
    "    for feat in self.features[:-1]:\n",
    "      x = nn.swish(nn.Dense(feat)(x))\n",
    "    x = nn.Dense(self.features[-1])(x)\n",
    "    return x"
   ]
  },
  {
   "attachments": {},
   "cell_type": "markdown",
   "metadata": {},
   "source": [
    "# load data"
   ]
  },
  {
   "cell_type": "code",
   "execution_count": 3,
   "metadata": {},
   "outputs": [
    {
     "data": {
      "text/plain": [
       "'/Users/lucas/repositories/fishnets_for_degenerates'"
      ]
     },
     "execution_count": 3,
     "metadata": {},
     "output_type": "execute_result"
    }
   ],
   "source": [
    "pwd"
   ]
  },
  {
   "cell_type": "code",
   "execution_count": 34,
   "metadata": {},
   "outputs": [],
   "source": [
    "data = np.load('camb_TT_secret_params.npy')\n",
    "theta_ = data[:, :6]\n",
    "data = data[:, 6:][:, ::4] # take every fourth bin (for now)"
   ]
  },
  {
   "cell_type": "code",
   "execution_count": 26,
   "metadata": {},
   "outputs": [
    {
     "data": {
      "text/plain": [
       "(10000, 513)"
      ]
     },
     "execution_count": 26,
     "metadata": {},
     "output_type": "execute_result"
    }
   ],
   "source": [
    "data.shape"
   ]
  },
  {
   "cell_type": "code",
   "execution_count": 35,
   "metadata": {},
   "outputs": [],
   "source": [
    "key = jax.random.PRNGKey(0)\n",
    "\n",
    "n_params = 6\n",
    "n_outputs = int(n_params + int(n_params * (n_params + 1)) // 2)\n",
    "\n",
    "theta_fid = jnp.array([0.0, 0.0, 0.0, 0.0, 0.0, 0.0])\n",
    "\n",
    "model = MLP([128,128,128,n_outputs])\n",
    "\n",
    "w = model.init(key, jnp.ones((513)))\n",
    "\n",
    "outs = model.apply(w, jnp.ones((513)))"
   ]
  },
  {
   "cell_type": "code",
   "execution_count": 36,
   "metadata": {},
   "outputs": [
    {
     "data": {
      "text/plain": [
       "(27,)"
      ]
     },
     "execution_count": 36,
     "metadata": {},
     "output_type": "execute_result"
    }
   ],
   "source": [
    "outs.shape"
   ]
  },
  {
   "cell_type": "code",
   "execution_count": 37,
   "metadata": {},
   "outputs": [],
   "source": [
    "@jax.jit\n",
    "def kl_loss(w, x_batched, theta_batched):\n",
    "\n",
    "    def fn(x, theta):\n",
    "       outputs = model.apply(w, x)\n",
    "       t = outputs[:n_params]\n",
    "       f_cholesky = outputs[n_params:]\n",
    "       F = construct_fisher_matrix_single(f_cholesky)\n",
    "\n",
    "       # score jump step\n",
    "       mle = jnp.einsum('jk,k->j', jnp.linalg.inv(F), t) + theta_fid\n",
    "\n",
    "       return mle, F\n",
    "    \n",
    "    mle,F = jax.vmap(fn)(x_batched, theta_batched)\n",
    "\n",
    "    return -jnp.mean(-0.5 * jnp.einsum('ij,ij->i', (theta_batched - mle), \\\n",
    "                                             jnp.einsum('ijk,ik->ij', F, (theta_batched - mle))) \\\n",
    "                                                  + 0.5*jnp.log(jnp.linalg.det(F)), axis=0)"
   ]
  },
  {
   "cell_type": "code",
   "execution_count": 38,
   "metadata": {},
   "outputs": [],
   "source": [
    "from tqdm import tqdm\n",
    "import optax\n",
    "tx = optax.adam(learning_rate=1e-4)\n",
    "opt_state = tx.init(w)\n",
    "loss_grad_fn = jax.value_and_grad(kl_loss)\n",
    "\n",
    "\n",
    "batch_size = 100\n",
    "epochs = 100\n",
    "\n",
    "w = w\n",
    "\n",
    "losses = []"
   ]
  },
  {
   "cell_type": "code",
   "execution_count": 70,
   "metadata": {},
   "outputs": [
    {
     "name": "stderr",
     "output_type": "stream",
     "text": [
      "epoch loss 79: -8.2387:  80%|████████  | 80/100 [01:56<00:29,  1.48s/it]"
     ]
    }
   ],
   "source": [
    "from tqdm import tqdm\n",
    "batch_size = 100\n",
    "epochs = 100\n",
    "\n",
    "key = jax.random.PRNGKey(99)\n",
    "\n",
    "pbar = tqdm(range(epochs), leave=True, position=0)\n",
    "\n",
    "for j in pbar:\n",
    "  key,rng = jax.random.split(key)\n",
    "\n",
    "  for i in range(len(data) // batch_size):\n",
    "    x_samples = data[batch_size*i:(batch_size*(i+1))]\n",
    "    y_samples = theta_[batch_size*i:(batch_size*(i+1))]\n",
    "\n",
    "    loss_val, grads = loss_grad_fn(w, x_samples, y_samples)\n",
    "    updates, opt_state = tx.update(grads, opt_state)\n",
    "    w = optax.apply_updates(w, updates)\n",
    "\n",
    "    #if i % 10 == 0:\n",
    "\n",
    "    #  val_loss, _ = loss_grad_fn(w, X_test, y_test)\n",
    "      #print('loss step {}: '.format(i), loss_val)\n",
    "      #print('val loss step {}: '.format(i), val_loss_val)\n",
    "      \n",
    "  losses.append(loss_val)\n",
    "  #val_losses.append(val_loss)\n",
    "  pbar.set_description('epoch loss %d: %.4f'%(j, loss_val))"
   ]
  },
  {
   "cell_type": "code",
   "execution_count": 63,
   "metadata": {},
   "outputs": [
    {
     "data": {
      "text/plain": [
       "[<matplotlib.lines.Line2D at 0x7fd170fc1d30>]"
      ]
     },
     "execution_count": 63,
     "metadata": {},
     "output_type": "execute_result"
    },
    {
     "data": {
      "image/png": "[encoded data removed]",
      "text/plain": [
       "<Figure size 432x288 with 1 Axes>"
      ]
     },
     "metadata": {
      "needs_background": "light"
     },
     "output_type": "display_data"
    }
   ],
   "source": [
    "plt.plot(losses)"
   ]
  },
  {
   "cell_type": "code",
   "execution_count": 64,
   "metadata": {},
   "outputs": [],
   "source": [
    "def get_mle_F(x):\n",
    "    outputs = model.apply(w, x)\n",
    "    t = outputs[:n_params]\n",
    "    f_cholesky = outputs[n_params:]\n",
    "    F = construct_fisher_matrix_single(f_cholesky)\n",
    "\n",
    "    mle = jnp.einsum('jk,k->j', jnp.linalg.inv(F), t) + theta_fid\n",
    "\n",
    "    return mle, F"
   ]
  },
  {
   "cell_type": "code",
   "execution_count": 65,
   "metadata": {},
   "outputs": [],
   "source": [
    "mle_pred,F_pred = jax.vmap(get_mle_F)(data[-1000:])"
   ]
  },
  {
   "cell_type": "code",
   "execution_count": 66,
   "metadata": {},
   "outputs": [
    {
     "data": {
      "text/plain": [
       "<matplotlib.collections.PathCollection at 0x7fd1a117ca00>"
      ]
     },
     "execution_count": 66,
     "metadata": {},
     "output_type": "execute_result"
    },
    {
     "data": {
      "image/png": "[encoded data removed]",
      "text/plain": [
       "<Figure size 432x288 with 2 Axes>"
      ]
     },
     "metadata": {
      "needs_background": "light"
     },
     "output_type": "display_data"
    }
   ],
   "source": [
    "plt.subplot(121)\n",
    "plt.scatter(theta_[-1000:, 0], mle_pred[:, 0], s=2)\n",
    "plt.subplot(122)\n",
    "plt.scatter(theta_[-1000:, 1], mle_pred[:, 3], s=2)"
   ]
  },
  {
   "cell_type": "code",
   "execution_count": 69,
   "metadata": {},
   "outputs": [
    {
     "data": {
      "text/plain": [
       "<matplotlib.colorbar.Colorbar at 0x7fd171055b50>"
      ]
     },
     "execution_count": 69,
     "metadata": {},
     "output_type": "execute_result"
    },
    {
     "data": {
      "image/png": "[encoded data removed]",
      "text/plain": [
       "<Figure size 432x288 with 2 Axes>"
      ]
     },
     "metadata": {
      "needs_background": "light"
     },
     "output_type": "display_data"
    }
   ],
   "source": [
    "plt.imshow(F_pred[100])\n",
    "plt.colorbar()"
   ]
  },
  {
   "cell_type": "code",
   "execution_count": null,
   "metadata": {},
   "outputs": [],
   "source": []
  }
 ],
 "metadata": {
  "kernelspec": {
   "display_name": "Python 3",
   "language": "python",
   "name": "python3"
  },
  "language_info": {
   "codemirror_mode": {
    "name": "ipython",
    "version": 3
   },
   "file_extension": ".py",
   "mimetype": "text/x-python",
   "name": "python",
   "nbconvert_exporter": "python",
   "pygments_lexer": "ipython3",
   "version": "3.8.8"
  },
  "orig_nbformat": 4
 },
 "nbformat": 4,
 "nbformat_minor": 2
}
